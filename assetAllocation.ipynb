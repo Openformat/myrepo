{
  "nbformat": 4,
  "nbformat_minor": 0,
  "metadata": {
    "colab": {
      "name": "assetAllocation",
      "provenance": [],
      "authorship_tag": "ABX9TyPYjArblJ4zuZMaCZWCTQkm",
      "include_colab_link": true
    },
    "kernelspec": {
      "name": "python3",
      "display_name": "Python 3"
    }
  },
  "cells": [
    {
      "cell_type": "markdown",
      "metadata": {
        "id": "view-in-github",
        "colab_type": "text"
      },
      "source": [
        "<a href=\"https://colab.research.google.com/github/Openformat/myrepo/blob/master/assetAllocation.ipynb\" target=\"_parent\"><img src=\"https://colab.research.google.com/assets/colab-badge.svg\" alt=\"Open In Colab\"/></a>"
      ]
    },
    {
      "cell_type": "markdown",
      "metadata": {
        "id": "IDtqNviTQLrH",
        "colab_type": "text"
      },
      "source": [
        "General "
      ]
    },
    {
      "cell_type": "code",
      "metadata": {
        "id": "yf8gy7dEPZJ8",
        "colab_type": "code",
        "colab": {}
      },
      "source": [
        "!pip install numpy scipy matplotlib ipython jupyter pandas sympy nose"
      ],
      "execution_count": 0,
      "outputs": []
    },
    {
      "cell_type": "code",
      "metadata": {
        "id": "_7mz4mXnAEFA",
        "colab_type": "code",
        "colab": {}
      },
      "source": [
        "!pip install questrade_api"
      ],
      "execution_count": 0,
      "outputs": []
    },
    {
      "cell_type": "markdown",
      "metadata": {
        "id": "iMhycPb6Lldc",
        "colab_type": "text"
      },
      "source": [
        "https://www.questrade.com/api/documentation/rest-operations/account-calls/accounts-id-positions\n",
        "\n",
        "####load package and access API for first time"
      ]
    },
    {
      "cell_type": "markdown",
      "metadata": {
        "id": "1QjSvrwNSEtN",
        "colab_type": "text"
      },
      "source": [
        "Import Packages"
      ]
    },
    {
      "cell_type": "code",
      "metadata": {
        "id": "y_LCe1zPSKzh",
        "colab_type": "code",
        "colab": {}
      },
      "source": [
        "import pandas as pd\n",
        "import numpy as np"
      ],
      "execution_count": 0,
      "outputs": []
    },
    {
      "cell_type": "code",
      "metadata": {
        "id": "BRnhPEkXAV-t",
        "colab_type": "code",
        "colab": {}
      },
      "source": [
        "import questrade_api\n",
        "from questrade_api import Questrade\n",
        "q= Questrade(refresh_token = 'bgGxuoQF_EPAeBdNdR0VQO6cryDE9H-Q0')"
      ],
      "execution_count": 0,
      "outputs": []
    },
    {
      "cell_type": "code",
      "metadata": {
        "id": "i-2UevNnCp0A",
        "colab_type": "code",
        "colab": {}
      },
      "source": [
        "import questrade_api\n",
        "from questrade_api import Questrade\n",
        "q = Questrade()\n",
        "accnum = 51653267"
      ],
      "execution_count": 0,
      "outputs": []
    },
    {
      "cell_type": "code",
      "metadata": {
        "id": "SjAIPNttJenh",
        "colab_type": "code",
        "colab": {}
      },
      "source": [
        "###Functions\n",
        "q.accounts\n",
        "q.account_positions(accnum)\n",
        "q.account_balances(accnum)\n",
        "q.account_activities(accnum)"
      ],
      "execution_count": 0,
      "outputs": []
    },
    {
      "cell_type": "code",
      "metadata": {
        "id": "nOk2-UlEJDKV",
        "colab_type": "code",
        "colab": {}
      },
      "source": [
        "x = q.account_activities(accnum)"
      ],
      "execution_count": 0,
      "outputs": []
    },
    {
      "cell_type": "code",
      "metadata": {
        "id": "R5mjg2ynTNH7",
        "colab_type": "code",
        "outputId": "30efbce5-5b09-4630-e6db-3f1d605dc167",
        "colab": {
          "base_uri": "https://localhost:8080/",
          "height": 54
        }
      },
      "source": [
        "print(x)"
      ],
      "execution_count": 0,
      "outputs": [
        {
          "output_type": "stream",
          "text": [
            "{'activities': [{'tradeDate': '2020-04-15T00:00:00.000000-04:00', 'transactionDate': '2020-04-17T00:00:00.000000-04:00', 'settlementDate': '2020-04-17T00:00:00.000000-04:00', 'action': 'Buy', 'symbol': 'ZCN.TO', 'symbolId': 2701877, 'description': 'BMO S&P/TSX CAPPED             COMPOSITE INDEX ETF UNIT       WE ACTED AS AGENT               ', 'currency': 'CAD', 'quantity': 1, 'price': 18.87, 'grossAmount': -18.87, 'commission': 0, 'netAmount': -18.87, 'type': 'Trades'}, {'tradeDate': '2020-04-15T00:00:00.000000-04:00', 'transactionDate': '2020-04-17T00:00:00.000000-04:00', 'settlementDate': '2020-04-17T00:00:00.000000-04:00', 'action': 'Buy', 'symbol': 'XBM.TO', 'symbolId': 24029, 'description': 'ISHARES S&P/TSX GLOBAL BASE    METALS INDEX ETF               WE ACTED AS AGENT               ', 'currency': 'CAD', 'quantity': 3, 'price': 7.67, 'grossAmount': -23.01, 'commission': -0.01, 'netAmount': -23.02, 'type': 'Trades'}, {'tradeDate': '2020-04-15T00:00:00.000000-04:00', 'transactionDate': '2020-04-17T00:00:00.000000-04:00', 'settlementDate': '2020-04-17T00:00:00.000000-04:00', 'action': 'Buy', 'symbol': 'XUU.TO', 'symbolId': 8953192, 'description': 'ISHARES CORE S&P U S TOTAL     MKT ETF UNIT                   WE ACTED AS AGENT               ', 'currency': 'CAD', 'quantity': 1, 'price': 29.09, 'grossAmount': -29.09, 'commission': 0, 'netAmount': -29.09, 'type': 'Trades'}, {'tradeDate': '2020-04-15T00:00:00.000000-04:00', 'transactionDate': '2020-04-17T00:00:00.000000-04:00', 'settlementDate': '2020-04-17T00:00:00.000000-04:00', 'action': 'Buy', 'symbol': 'VIU.TO', 'symbolId': 12074085, 'description': 'VANGUARD FTSE DEVELOPED ALL    CAP EX NORTH AMER INDEX ETF    UNIT                           WE ACTED AS AGENT              ', 'currency': 'CAD', 'quantity': 1, 'price': 24.39, 'grossAmount': -24.39, 'commission': 0, 'netAmount': -24.39, 'type': 'Trades'}, {'tradeDate': '2020-04-15T00:00:00.000000-04:00', 'transactionDate': '2020-04-17T00:00:00.000000-04:00', 'settlementDate': '2020-04-17T00:00:00.000000-04:00', 'action': 'Buy', 'symbol': 'VVL.TO', 'symbolId': 14208088, 'description': 'VANGUARD GLOBAL VALUE FACTR    ETF                            WE ACTED AS AGENT               ', 'currency': 'CAD', 'quantity': 1, 'price': 22.9, 'grossAmount': -22.9, 'commission': 0, 'netAmount': -22.9, 'type': 'Trades'}, {'tradeDate': '2020-04-15T00:00:00.000000-04:00', 'transactionDate': '2020-04-15T00:00:00.000000-04:00', 'settlementDate': '2020-04-15T00:00:00.000000-04:00', 'action': 'DIV', 'symbol': 'SXP.TO', 'symbolId': 37691, 'description': 'SUPREMEX INC                   CASH DIV  ON      21 SHS       REC 03/31/20 PAY 04/15/20      ', 'currency': 'CAD', 'quantity': 0, 'price': 0, 'grossAmount': 0, 'commission': 0, 'netAmount': 1.37, 'type': 'Dividends'}]}\n"
          ],
          "name": "stdout"
        }
      ]
    },
    {
      "cell_type": "code",
      "metadata": {
        "id": "Pr1iBtkoNrpx",
        "colab_type": "code",
        "outputId": "ca55a26a-b0cb-43d1-a1d7-56b7c468817c",
        "colab": {
          "base_uri": "https://localhost:8080/",
          "height": 34
        }
      },
      "source": [
        "type(x)"
      ],
      "execution_count": 0,
      "outputs": [
        {
          "output_type": "execute_result",
          "data": {
            "text/plain": [
              "dict"
            ]
          },
          "metadata": {
            "tags": []
          },
          "execution_count": 69
        }
      ]
    },
    {
      "cell_type": "code",
      "metadata": {
        "id": "SkUzvCU7OtFL",
        "colab_type": "code",
        "colab": {}
      },
      "source": [
        "len(x)"
      ],
      "execution_count": 0,
      "outputs": []
    },
    {
      "cell_type": "code",
      "metadata": {
        "id": "wlzTzvSFO_2o",
        "colab_type": "code",
        "outputId": "c56c2100-de54-4f85-97c0-09b839e40f64",
        "colab": {
          "base_uri": "https://localhost:8080/",
          "height": 141
        }
      },
      "source": [
        "df = pd.DataFrame(x)\n",
        "print(df)"
      ],
      "execution_count": 0,
      "outputs": [
        {
          "output_type": "stream",
          "text": [
            "                                          activities\n",
            "0  {'tradeDate': '2020-04-15T00:00:00.000000-04:0...\n",
            "1  {'tradeDate': '2020-04-15T00:00:00.000000-04:0...\n",
            "2  {'tradeDate': '2020-04-15T00:00:00.000000-04:0...\n",
            "3  {'tradeDate': '2020-04-15T00:00:00.000000-04:0...\n",
            "4  {'tradeDate': '2020-04-15T00:00:00.000000-04:0...\n",
            "5  {'tradeDate': '2020-04-15T00:00:00.000000-04:0...\n"
          ],
          "name": "stdout"
        }
      ]
    },
    {
      "cell_type": "code",
      "metadata": {
        "id": "W5Jn9t04SoIH",
        "colab_type": "code",
        "outputId": "795a8a81-7a82-4395-e19f-9a4787bdb4f6",
        "colab": {
          "base_uri": "https://localhost:8080/",
          "height": 34
        }
      },
      "source": [
        "df.shape"
      ],
      "execution_count": 0,
      "outputs": [
        {
          "output_type": "execute_result",
          "data": {
            "text/plain": [
              "(1, 6)"
            ]
          },
          "metadata": {
            "tags": []
          },
          "execution_count": 84
        }
      ]
    },
    {
      "cell_type": "code",
      "metadata": {
        "id": "7oY2lHLnUEfa",
        "colab_type": "code",
        "colab": {}
      },
      "source": [
        "d=pd.DataFrame(df)\n",
        "print(d)"
      ],
      "execution_count": 0,
      "outputs": []
    }
  ]
}